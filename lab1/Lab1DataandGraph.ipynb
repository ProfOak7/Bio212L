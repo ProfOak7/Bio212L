{
 "cells": [
  {
   "cell_type": "markdown",
   "id": "49030252-8cd9-4fce-be3b-8a966333d879",
   "metadata": {},
   "source": [
    "## Import packages"
   ]
  },
  {
   "cell_type": "code",
   "execution_count": 34,
   "id": "9da771ed-0ffe-4aae-9385-97365cb5d56b",
   "metadata": {},
   "outputs": [],
   "source": [
    "import pandas as pd\n",
    "import statistics\n",
    "from statistics import mean, stdev\n",
    "from scipy.stats import sem\n",
    "import scipy.stats as stats\n",
    "import matplotlib.pyplot as plt\n",
    "#include if using a jupyter notebook, remove if using a .py file\n",
    "%matplotlib inline  \n"
   ]
  },
  {
   "cell_type": "code",
   "execution_count": 35,
   "id": "6ba26e03-8c33-41de-b2de-96804235f53c",
   "metadata": {},
   "outputs": [
    {
     "data": {
      "text/html": [
       "<div>\n",
       "<style scoped>\n",
       "    .dataframe tbody tr th:only-of-type {\n",
       "        vertical-align: middle;\n",
       "    }\n",
       "\n",
       "    .dataframe tbody tr th {\n",
       "        vertical-align: top;\n",
       "    }\n",
       "\n",
       "    .dataframe thead th {\n",
       "        text-align: right;\n",
       "    }\n",
       "</style>\n",
       "<table border=\"1\" class=\"dataframe\">\n",
       "  <thead>\n",
       "    <tr style=\"text-align: right;\">\n",
       "      <th></th>\n",
       "      <th>Before Exercise (time 0)</th>\n",
       "      <th>After Exercise (30 sec)</th>\n",
       "    </tr>\n",
       "    <tr>\n",
       "      <th>Individual #</th>\n",
       "      <th></th>\n",
       "      <th></th>\n",
       "    </tr>\n",
       "  </thead>\n",
       "  <tbody>\n",
       "    <tr>\n",
       "      <th>1</th>\n",
       "      <td>86</td>\n",
       "      <td>168</td>\n",
       "    </tr>\n",
       "    <tr>\n",
       "      <th>2</th>\n",
       "      <td>84</td>\n",
       "      <td>118</td>\n",
       "    </tr>\n",
       "    <tr>\n",
       "      <th>3</th>\n",
       "      <td>95</td>\n",
       "      <td>125</td>\n",
       "    </tr>\n",
       "    <tr>\n",
       "      <th>4</th>\n",
       "      <td>74</td>\n",
       "      <td>149</td>\n",
       "    </tr>\n",
       "    <tr>\n",
       "      <th>5</th>\n",
       "      <td>70</td>\n",
       "      <td>108</td>\n",
       "    </tr>\n",
       "    <tr>\n",
       "      <th>6</th>\n",
       "      <td>56</td>\n",
       "      <td>78</td>\n",
       "    </tr>\n",
       "    <tr>\n",
       "      <th>7</th>\n",
       "      <td>78</td>\n",
       "      <td>120</td>\n",
       "    </tr>\n",
       "    <tr>\n",
       "      <th>8</th>\n",
       "      <td>68</td>\n",
       "      <td>122</td>\n",
       "    </tr>\n",
       "    <tr>\n",
       "      <th>9</th>\n",
       "      <td>66</td>\n",
       "      <td>130</td>\n",
       "    </tr>\n",
       "    <tr>\n",
       "      <th>10</th>\n",
       "      <td>66</td>\n",
       "      <td>126</td>\n",
       "    </tr>\n",
       "    <tr>\n",
       "      <th>11</th>\n",
       "      <td>69</td>\n",
       "      <td>103</td>\n",
       "    </tr>\n",
       "  </tbody>\n",
       "</table>\n",
       "</div>"
      ],
      "text/plain": [
       "              Before Exercise (time 0)  After Exercise (30 sec)\n",
       "Individual #                                                   \n",
       "1                                   86                      168\n",
       "2                                   84                      118\n",
       "3                                   95                      125\n",
       "4                                   74                      149\n",
       "5                                   70                      108\n",
       "6                                   56                       78\n",
       "7                                   78                      120\n",
       "8                                   68                      122\n",
       "9                                   66                      130\n",
       "10                                  66                      126\n",
       "11                                  69                      103"
      ]
     },
     "execution_count": 35,
     "metadata": {},
     "output_type": "execute_result"
    }
   ],
   "source": [
    "#Import the excel file\n",
    "df = pd.read_excel (r'./Class Data.xlsx', index_col=0) \n",
    "df"
   ]
  },
  {
   "cell_type": "code",
   "execution_count": 36,
   "id": "13a9b3bd-eaec-48c1-9de1-412061362394",
   "metadata": {},
   "outputs": [
    {
     "data": {
      "text/html": [
       "<div>\n",
       "<style scoped>\n",
       "    .dataframe tbody tr th:only-of-type {\n",
       "        vertical-align: middle;\n",
       "    }\n",
       "\n",
       "    .dataframe tbody tr th {\n",
       "        vertical-align: top;\n",
       "    }\n",
       "\n",
       "    .dataframe thead th {\n",
       "        text-align: right;\n",
       "    }\n",
       "</style>\n",
       "<table border=\"1\" class=\"dataframe\">\n",
       "  <thead>\n",
       "    <tr style=\"text-align: right;\">\n",
       "      <th></th>\n",
       "      <th>Before</th>\n",
       "      <th>After</th>\n",
       "    </tr>\n",
       "    <tr>\n",
       "      <th>Individual #</th>\n",
       "      <th></th>\n",
       "      <th></th>\n",
       "    </tr>\n",
       "  </thead>\n",
       "  <tbody>\n",
       "    <tr>\n",
       "      <th>1</th>\n",
       "      <td>86</td>\n",
       "      <td>168</td>\n",
       "    </tr>\n",
       "    <tr>\n",
       "      <th>2</th>\n",
       "      <td>84</td>\n",
       "      <td>118</td>\n",
       "    </tr>\n",
       "    <tr>\n",
       "      <th>3</th>\n",
       "      <td>95</td>\n",
       "      <td>125</td>\n",
       "    </tr>\n",
       "    <tr>\n",
       "      <th>4</th>\n",
       "      <td>74</td>\n",
       "      <td>149</td>\n",
       "    </tr>\n",
       "    <tr>\n",
       "      <th>5</th>\n",
       "      <td>70</td>\n",
       "      <td>108</td>\n",
       "    </tr>\n",
       "    <tr>\n",
       "      <th>6</th>\n",
       "      <td>56</td>\n",
       "      <td>78</td>\n",
       "    </tr>\n",
       "    <tr>\n",
       "      <th>7</th>\n",
       "      <td>78</td>\n",
       "      <td>120</td>\n",
       "    </tr>\n",
       "    <tr>\n",
       "      <th>8</th>\n",
       "      <td>68</td>\n",
       "      <td>122</td>\n",
       "    </tr>\n",
       "    <tr>\n",
       "      <th>9</th>\n",
       "      <td>66</td>\n",
       "      <td>130</td>\n",
       "    </tr>\n",
       "    <tr>\n",
       "      <th>10</th>\n",
       "      <td>66</td>\n",
       "      <td>126</td>\n",
       "    </tr>\n",
       "    <tr>\n",
       "      <th>11</th>\n",
       "      <td>69</td>\n",
       "      <td>103</td>\n",
       "    </tr>\n",
       "  </tbody>\n",
       "</table>\n",
       "</div>"
      ],
      "text/plain": [
       "              Before  After\n",
       "Individual #               \n",
       "1                 86    168\n",
       "2                 84    118\n",
       "3                 95    125\n",
       "4                 74    149\n",
       "5                 70    108\n",
       "6                 56     78\n",
       "7                 78    120\n",
       "8                 68    122\n",
       "9                 66    130\n",
       "10                66    126\n",
       "11                69    103"
      ]
     },
     "execution_count": 36,
     "metadata": {},
     "output_type": "execute_result"
    }
   ],
   "source": [
    "#change the column names to something easier\n",
    "df.columns = ['Before', 'After']\n",
    "df"
   ]
  },
  {
   "cell_type": "code",
   "execution_count": 37,
   "id": "11de04bb-7ede-4720-af4c-340d5817b6df",
   "metadata": {},
   "outputs": [],
   "source": [
    "#Assign the names to the following columns:\n",
    "Before = df.Before\n",
    "After = df.After"
   ]
  },
  {
   "cell_type": "code",
   "execution_count": 38,
   "id": "055006f2-285d-4343-a2c0-a20e374864e7",
   "metadata": {},
   "outputs": [],
   "source": [
    "BEFORE_MEAN = mean(Before)\n",
    "BEFORE_SEM = sem(Before)\n",
    "AFTER_MEAN = mean(After)\n",
    "AFTER_SEM = sem(After)"
   ]
  },
  {
   "cell_type": "code",
   "execution_count": 41,
   "id": "636d9e89-9918-4354-ba04-6f90543c26a6",
   "metadata": {},
   "outputs": [
    {
     "data": {
      "text/plain": [
       "73.81818181818181"
      ]
     },
     "execution_count": 41,
     "metadata": {},
     "output_type": "execute_result"
    }
   ],
   "source": [
    "#Displaiy the mean (average) of before\n",
    "BEFORE_MEAN"
   ]
  },
  {
   "cell_type": "code",
   "execution_count": 42,
   "id": "66f91604-f3e9-4fa7-bedb-f452aac0b90b",
   "metadata": {},
   "outputs": [
    {
     "data": {
      "text/plain": [
       "122.45454545454545"
      ]
     },
     "execution_count": 42,
     "metadata": {},
     "output_type": "execute_result"
    }
   ],
   "source": [
    "#Displaiy the mean (average) of after\n",
    "AFTER_MEAN"
   ]
  },
  {
   "cell_type": "code",
   "execution_count": 43,
   "id": "91baa639-0821-441b-b010-f8c4d07ee742",
   "metadata": {},
   "outputs": [
    {
     "data": {
      "text/plain": [
       "Text(0.5, 1.0, 'Effect of Exercise on Heart Rate')"
      ]
     },
     "execution_count": 43,
     "metadata": {},
     "output_type": "execute_result"
    },
    {
     "data": {
      "image/png": "[encoded data removed]",
      "text/plain": [
       "<Figure size 640x480 with 1 Axes>"
      ]
     },
     "metadata": {},
     "output_type": "display_data"
    }
   ],
   "source": [
    "# build a bar plot\n",
    "plt.bar(['Before Exercise', 'After Exercise (30 sec)'],[BEFORE_MEAN, AFTER_MEAN], yerr=[BEFORE_SEM, AFTER_SEM], capsize=10)\n",
    "plt.ylabel('HR (BPM)')\n",
    "plt.title('Effect of Exercise on Heart Rate')"
   ]
  },
  {
   "cell_type": "code",
   "execution_count": 44,
   "id": "7d934b82-5956-4de4-a1a8-4cd2bfc28b06",
   "metadata": {},
   "outputs": [
    {
     "data": {
      "text/plain": [
       "Ttest_indResult(statistic=-6.243850661958035, pvalue=4.257093903501956e-06)"
      ]
     },
     "metadata": {},
     "output_type": "display_data"
    }
   ],
   "source": [
    "#Perform a t test to determine significance (p value < 0.05 is significant)\n",
    "\n",
    "res = stats.ttest_ind(Before, After, \n",
    "                      equal_var=True)\n",
    "\n",
    "display(res)"
   ]
  },
  {
   "cell_type": "code",
   "execution_count": null,
   "id": "a0fa5c58-26a7-4a1a-ada5-1fc9e44e982b",
   "metadata": {},
   "outputs": [],
   "source": []
  }
 ],
 "metadata": {
  "kernelspec": {
   "display_name": "Python 3 (ipykernel)",
   "language": "python",
   "name": "python3"
  },
  "language_info": {
   "codemirror_mode": {
    "name": "ipython",
    "version": 3
   },
   "file_extension": ".py",
   "mimetype": "text/x-python",
   "name": "python",
   "nbconvert_exporter": "python",
   "pygments_lexer": "ipython3",
   "version": "3.10.12"
  }
 },
 "nbformat": 4,
 "nbformat_minor": 5
}
